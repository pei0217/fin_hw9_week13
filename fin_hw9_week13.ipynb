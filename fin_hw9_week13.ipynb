{
  "nbformat": 4,
  "nbformat_minor": 0,
  "metadata": {
    "colab": {
      "provenance": [],
      "authorship_tag": "ABX9TyPeQulMOOAruwFh3rl9EwF5",
      "include_colab_link": true
    },
    "kernelspec": {
      "name": "python3",
      "display_name": "Python 3"
    },
    "language_info": {
      "name": "python"
    }
  },
  "cells": [
    {
      "cell_type": "markdown",
      "metadata": {
        "id": "view-in-github",
        "colab_type": "text"
      },
      "source": [
        "<a href=\"https://colab.research.google.com/github/pei0217/fin_hw9_week13/blob/main/fin_hw9_week13.ipynb\" target=\"_parent\"><img src=\"https://colab.research.google.com/assets/colab-badge.svg\" alt=\"Open In Colab\"/></a>"
      ]
    },
    {
      "cell_type": "code",
      "execution_count": 5,
      "metadata": {
        "colab": {
          "base_uri": "https://localhost:8080/"
        },
        "id": "YvgAUi9nSJ4l",
        "outputId": "52466301-1545-4115-f557-f20ca202a652"
      },
      "outputs": [
        {
          "output_type": "stream",
          "name": "stderr",
          "text": [
            "[*********************100%***********************]  1 of 1 completed\n",
            "[*********************100%***********************]  1 of 1 completed\n",
            "[*********************100%***********************]  1 of 1 completed\n",
            "[*********************100%***********************]  1 of 1 completed\n",
            "[*********************100%***********************]  1 of 1 completed\n"
          ]
        },
        {
          "output_type": "stream",
          "name": "stdout",
          "text": [
            "最佳選股組合: ['NVDA']\n",
            "最佳適應值（回報率/風險）: 2.3903484373279342\n",
            "總回報率: 2.435185640776829\n",
            "總風險: 1.3945279557804486\n"
          ]
        }
      ],
      "source": [
        "import numpy as np\n",
        "import random\n",
        "import yfinance as yf\n",
        "\n",
        "\n",
        "stock_symbols = [\"AAPL\", \"NVDA\", \"2317.TW\", \"AMZN\", \"TSLA\"]\n",
        "\n",
        "# 計算回報率和風險（標準差）\n",
        "def fetch_stock_data(symbols, period=\"2y\"):\n",
        "    stock_returns = []\n",
        "    stock_risks = []\n",
        "\n",
        "    for symbol in symbols:\n",
        "        data = yf.download(symbol, period=period)\n",
        "        # 計算每日回報率\n",
        "        data[\"Return\"] = data[\"Adj Close\"].pct_change()\n",
        "        avg_return = data[\"Return\"].mean() * 252  # 年化回報率\n",
        "        risk = data[\"Return\"].std() * np.sqrt(252)  # 年化風險\n",
        "        stock_returns.append(avg_return)\n",
        "        stock_risks.append(risk)\n",
        "\n",
        "    return stock_returns, stock_risks\n",
        "\n",
        "# 爬取股票數據\n",
        "stock_returns, stock_risks = fetch_stock_data(stock_symbols)\n",
        "\n",
        "# 初始化參數\n",
        "population_size = 20\n",
        "num_generations = 100\n",
        "mutation_rate = 0.1\n",
        "budget = 3  # 最大選股數量限制\n",
        "\n",
        "# 適應函數\n",
        "def fitness(chromosome):\n",
        "    total_return = np.dot(chromosome, stock_returns)\n",
        "    total_risk = np.dot(chromosome, stock_risks)\n",
        "    if sum(chromosome) > budget:  # 超出選股數量限制的個體\n",
        "        return 1e-6  # 返回一個非常小的正值\n",
        "    return total_return / (total_risk + 1e-6)  # 加小值避免除零\n",
        "\n",
        "# 初始化族群\n",
        "def initialize_population(size, n_stocks):\n",
        "    return [np.random.randint(2, size=n_stocks) for _ in range(size)]\n",
        "\n",
        "# 選擇：輪盤賭選擇法\n",
        "def select(population, fitness_scores):\n",
        "    fitness_scores = [max(score, 1e-6) for score in fitness_scores]  # 確保適應值為正\n",
        "    fitness_sum = sum(fitness_scores)\n",
        "    probabilities = [score / fitness_sum for score in fitness_scores]\n",
        "    selected_index = np.random.choice(len(population), p=probabilities)\n",
        "    return population[selected_index]\n",
        "\n",
        "# 交配：單點交叉\n",
        "def crossover(parent1, parent2):\n",
        "    crossover_point = np.random.randint(1, len(parent1))\n",
        "    child = np.concatenate([parent1[:crossover_point], parent2[crossover_point:]])\n",
        "    return child\n",
        "\n",
        "# 突變：隨機翻轉一個基因\n",
        "def mutate(chromosome):\n",
        "    if random.random() < mutation_rate:\n",
        "        mutation_point = np.random.randint(len(chromosome))\n",
        "        chromosome[mutation_point] = 1 - chromosome[mutation_point]\n",
        "    return chromosome\n",
        "\n",
        "# 主遺傳算法流程\n",
        "def genetic_algorithm():\n",
        "    population = initialize_population(population_size, len(stock_returns))\n",
        "\n",
        "    for generation in range(num_generations):\n",
        "        fitness_scores = [fitness(individual) for individual in population]\n",
        "\n",
        "        # 保留適應度最高的個體\n",
        "        new_population = [population[np.argmax(fitness_scores)]]\n",
        "\n",
        "        # 生成下一代\n",
        "        while len(new_population) < population_size:\n",
        "            parent1 = select(population, fitness_scores)\n",
        "            parent2 = select(population, fitness_scores)\n",
        "            child = crossover(parent1, parent2)\n",
        "            child = mutate(child)\n",
        "            new_population.append(child)\n",
        "\n",
        "        population = new_population\n",
        "\n",
        "    # 找到最優解\n",
        "    fitness_scores = [fitness(individual) for individual in population]\n",
        "    best_index = np.argmax(fitness_scores)\n",
        "    best_chromosome = population[best_index]\n",
        "    return best_chromosome, fitness(best_chromosome)\n",
        "\n",
        "# 執行算法\n",
        "best_solution, best_fitness = genetic_algorithm()\n",
        "selected_stocks = [stock_symbols[i] for i, gene in enumerate(best_solution) if gene == 1]\n",
        "print(\"最佳選股組合:\", selected_stocks)\n",
        "print(\"最佳適應值（回報率/風險）:\", best_fitness)\n",
        "print(\"總回報率:\", sum(np.array(stock_returns)[best_solution]))\n",
        "print(\"總風險:\", sum(np.array(stock_risks)[best_solution]))\n"
      ]
    }
  ]
}